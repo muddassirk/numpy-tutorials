{
 "cells": [
  {
   "cell_type": "code",
   "execution_count": 2,
   "id": "4f5e7063",
   "metadata": {},
   "outputs": [
    {
     "name": "stdout",
     "output_type": "stream",
     "text": [
      "[[-0.16965472  2.22441516 -0.91032593  0.02041841]\n",
      " [ 0.16688846  1.14239447  0.71807699  2.16027061]\n",
      " [ 0.49556012  1.68919932  1.13222094 -0.54419737]]\n"
     ]
    }
   ],
   "source": [
    "import numpy as np\n",
    "\n",
    "data = np.random.randn(3, 4)\n",
    "print(data)"
   ]
  },
  {
   "cell_type": "code",
   "execution_count": 3,
   "id": "e354800e",
   "metadata": {},
   "outputs": [
    {
     "name": "stdout",
     "output_type": "stream",
     "text": [
      "[[ 0.79853932  0.02354558  0.98212899  0.08910073]\n",
      " [-2.1530119  -0.51521716 -0.08621592  0.78614713]\n",
      " [ 0.28167299 -1.16666547  0.33803172 -1.45852361]] \n",
      "\n",
      "[[ 1.59707864  0.04709116  1.96425798  0.17820146]\n",
      " [-4.3060238  -1.03043432 -0.17243185  1.57229427]\n",
      " [ 0.56334598 -2.33333093  0.67606343 -2.91704722]]\n"
     ]
    }
   ],
   "source": [
    "import numpy as np\n",
    "\n",
    "data = np.random.randn(3, 4)\n",
    "print(data, '\\n' )\n",
    "print(data + data)"
   ]
  },
  {
   "cell_type": "code",
   "execution_count": 4,
   "id": "b61f5d6f",
   "metadata": {},
   "outputs": [
    {
     "name": "stdout",
     "output_type": "stream",
     "text": [
      "[[-1.37730252 -0.09591913 -0.12018241 -0.1187765 ]\n",
      " [-2.52576238 -0.56772415  1.51196674 -0.89771059]\n",
      " [-0.37766331  0.38435967 -0.11062287 -1.49708683]] \n",
      "\n",
      "[[-2.75460504 -0.19183825 -0.24036482 -0.23755299]\n",
      " [-5.05152477 -1.13544831  3.02393349 -1.79542119]\n",
      " [-0.75532661  0.76871933 -0.22124574 -2.99417366]] \n",
      "\n",
      "[[-13.7730252   -0.95919127  -1.2018241   -1.18776496]\n",
      " [-25.25762385  -5.67724154  15.11966744  -8.97710594]\n",
      " [ -3.77663306   3.84359665  -1.10622868 -14.9708683 ]]\n"
     ]
    }
   ],
   "source": [
    "import numpy as np\n",
    "\n",
    "data = np.random.randn(3, 4)\n",
    "print(data, '\\n' )\n",
    "print(data + data, \"\\n\")\n",
    "print(data * 10)"
   ]
  },
  {
   "cell_type": "code",
   "execution_count": 5,
   "id": "9a1c9385",
   "metadata": {},
   "outputs": [
    {
     "name": "stdout",
     "output_type": "stream",
     "text": [
      "[[ 0.13701553 -0.71976672  0.57324129  0.89455212]\n",
      " [-0.79457516 -1.05902372 -1.20398801 -1.61773569]\n",
      " [-0.39543045 -0.53948114  1.35029867  0.04130144]] \n",
      "\n",
      "[[ 0.27403106 -1.43953343  1.14648257  1.78910424]\n",
      " [-1.58915032 -2.11804743 -2.40797603 -3.23547138]\n",
      " [-0.79086091 -1.07896228  2.70059733  0.08260288]] \n",
      "\n",
      "[[  1.37015531  -7.19766716   5.73241286   8.9455212 ]\n",
      " [ -7.94575162 -10.59023717 -12.03988013 -16.17735692]\n",
      " [ -3.95430453  -5.3948114   13.50298667   0.41301442]] \n",
      "\n",
      "(3, 4)\n"
     ]
    }
   ],
   "source": [
    "import numpy as np\n",
    "\n",
    "data = np.random.randn(3, 4)\n",
    "print(data, '\\n' )\n",
    "print(data + data, \"\\n\")\n",
    "print(data * 10, '\\n')\n",
    "print(data.shape) #shape checking"
   ]
  },
  {
   "cell_type": "code",
   "execution_count": 6,
   "id": "867dcbc4",
   "metadata": {},
   "outputs": [
    {
     "name": "stdout",
     "output_type": "stream",
     "text": [
      "[[ 0.191299   -0.00395168 -0.5376327  -0.09651922]\n",
      " [ 0.79247209  1.07959695  2.1309556  -0.77395919]\n",
      " [ 1.28086043 -0.40025132 -0.25572661 -0.51421231]] \n",
      "\n",
      "[[ 0.382598   -0.00790335 -1.07526539 -0.19303844]\n",
      " [ 1.58494419  2.1591939   4.26191121 -1.54791838]\n",
      " [ 2.56172086 -0.80050264 -0.51145321 -1.02842462]] \n",
      "\n",
      "[[ 1.91299    -0.03951677 -5.37632697 -0.96519222]\n",
      " [ 7.92472093 10.79596949 21.30955604 -7.73959189]\n",
      " [12.80860429 -4.00251319 -2.55726606 -5.14212308]] \n",
      "\n",
      "(3, 4) \n",
      "\n",
      "float64 \n",
      "\n"
     ]
    }
   ],
   "source": [
    "import numpy as np\n",
    "\n",
    "data = np.random.randn(3, 4)\n",
    "print(data, '\\n' )\n",
    "print(data + data, \"\\n\")\n",
    "print(data * 10, '\\n')\n",
    "print(data.shape , '\\n')\n",
    "print(data.dtype , '\\n') #datatype"
   ]
  },
  {
   "cell_type": "code",
   "execution_count": 7,
   "id": "10154388",
   "metadata": {},
   "outputs": [
    {
     "name": "stdout",
     "output_type": "stream",
     "text": [
      "[[-0.61695385  0.42092973  1.20863447  2.02318321]\n",
      " [ 0.17844243 -0.51779096 -0.17714944 -1.93604795]\n",
      " [-0.13781089  0.61158735  1.56987191  0.66641875]] \n",
      "\n",
      "[[-1.2339077   0.84185945  2.41726894  4.04636642]\n",
      " [ 0.35688485 -1.03558193 -0.35429887 -3.87209591]\n",
      " [-0.27562179  1.2231747   3.13974383  1.33283751]] \n",
      "\n",
      "[[ -6.1695385    4.20929725  12.08634468  20.2318321 ]\n",
      " [  1.78442427  -5.17790965  -1.77149436 -19.36047955]\n",
      " [ -1.37810894   6.1158735   15.69871914   6.66418754]] \n",
      "\n",
      "(3, 4) \n",
      "\n",
      "float64 \n",
      "\n",
      "2 \n",
      "\n"
     ]
    }
   ],
   "source": [
    "import numpy as np\n",
    "\n",
    "data = np.random.randn(3, 4)\n",
    "print(data, '\\n' )\n",
    "print(data + data, \"\\n\")\n",
    "print(data * 10, '\\n')\n",
    "print(data.shape , '\\n')\n",
    "print(data.dtype , '\\n')\n",
    "print(data.ndim , '\\n') #dimension"
   ]
  },
  {
   "cell_type": "code",
   "execution_count": 8,
   "id": "8147811d",
   "metadata": {},
   "outputs": [
    {
     "name": "stdout",
     "output_type": "stream",
     "text": [
      "[0. 0. 0. 0. 0. 0. 0. 0. 0. 0.]\n"
     ]
    }
   ],
   "source": [
    "print(np.zeros(10))"
   ]
  },
  {
   "cell_type": "code",
   "execution_count": 9,
   "id": "46e5d728",
   "metadata": {},
   "outputs": [
    {
     "name": "stdout",
     "output_type": "stream",
     "text": [
      "[[0. 0. 0. 0. 0. 0.]\n",
      " [0. 0. 0. 0. 0. 0.]\n",
      " [0. 0. 0. 0. 0. 0.]] \n",
      "\n"
     ]
    }
   ],
   "source": [
    "print(np.zeros((3,6)), '\\n')"
   ]
  },
  {
   "cell_type": "code",
   "execution_count": 10,
   "id": "55dadd90",
   "metadata": {},
   "outputs": [
    {
     "name": "stdout",
     "output_type": "stream",
     "text": [
      "[[[0. 0. 0. 0. 0. 0.]\n",
      "  [0. 0. 0. 0. 0. 0.]\n",
      "  [0. 0. 0. 0. 0. 0.]]\n",
      "\n",
      " [[0. 0. 0. 0. 0. 0.]\n",
      "  [0. 0. 0. 0. 0. 0.]\n",
      "  [0. 0. 0. 0. 0. 0.]]] \n",
      "\n"
     ]
    }
   ],
   "source": [
    "print(np.zeros((2,3,6)), '\\n')"
   ]
  },
  {
   "cell_type": "code",
   "execution_count": 11,
   "id": "1f4c7058",
   "metadata": {},
   "outputs": [
    {
     "name": "stdout",
     "output_type": "stream",
     "text": [
      "[[0. 0. 0. 0. 0. 0.]\n",
      " [0. 0. 0. 0. 0. 0.]\n",
      " [0. 0. 0. 0. 0. 0.]]\n"
     ]
    }
   ],
   "source": [
    "print(np.empty((3,6)))"
   ]
  },
  {
   "cell_type": "code",
   "execution_count": 12,
   "id": "9e184d55",
   "metadata": {},
   "outputs": [
    {
     "name": "stdout",
     "output_type": "stream",
     "text": [
      "[1. 2. 3. 4. 5. 6.]\n"
     ]
    }
   ],
   "source": [
    "arr = np.array([1,2,3,4,5,6])\n",
    "print(arr.astype(np.float64))"
   ]
  },
  {
   "cell_type": "code",
   "execution_count": 13,
   "id": "9d96b4a4",
   "metadata": {},
   "outputs": [
    {
     "name": "stdout",
     "output_type": "stream",
     "text": [
      "[ 8  4  6 14 10 12] \n",
      "\n"
     ]
    }
   ],
   "source": [
    "arr = np.array([4,2,3,7,5,6], dtype = 'int64')\n",
    "print(arr* 2 , '\\n')"
   ]
  },
  {
   "cell_type": "code",
   "execution_count": 14,
   "id": "70e968a7",
   "metadata": {},
   "outputs": [
    {
     "name": "stdout",
     "output_type": "stream",
     "text": [
      "[16  4  9 49 25 36] \n",
      "\n"
     ]
    }
   ],
   "source": [
    "arr = np.array([4,2,3,7,5,6], dtype = 'int64')\n",
    "print(arr*arr , '\\n')"
   ]
  },
  {
   "cell_type": "code",
   "execution_count": 15,
   "id": "bc97d335",
   "metadata": {},
   "outputs": [
    {
     "name": "stdout",
     "output_type": "stream",
     "text": [
      "[0.5        1.         0.66666667 0.28571429 0.4        0.33333333] \n",
      "\n"
     ]
    }
   ],
   "source": [
    "arr = np.array([4,2,3,7,5,6], dtype = 'int64')\n",
    "print(2/arr , '\\n')"
   ]
  },
  {
   "cell_type": "code",
   "execution_count": 16,
   "id": "e83f2fde",
   "metadata": {},
   "outputs": [
    {
     "name": "stdout",
     "output_type": "stream",
     "text": [
      "[16  4  9 49 25 36] \n",
      "\n"
     ]
    }
   ],
   "source": [
    "arr = np.array([4,2,3,7,5,6], dtype = 'int64')\n",
    "print(arr**2 , '\\n') #double * means power e.g(2 ki power 2)"
   ]
  },
  {
   "cell_type": "code",
   "execution_count": 17,
   "id": "97dc1856",
   "metadata": {},
   "outputs": [
    {
     "name": "stdout",
     "output_type": "stream",
     "text": [
      "[2.         1.41421356 1.73205081 2.64575131 2.23606798 2.44948974] \n",
      "\n"
     ]
    }
   ],
   "source": [
    "arr = np.array([4,2,3,7,5,6], dtype = 'int64')\n",
    "print(np.sqrt(arr) , '\\n') #squar root"
   ]
  },
  {
   "cell_type": "code",
   "execution_count": 18,
   "id": "6ad4f21f",
   "metadata": {},
   "outputs": [
    {
     "name": "stdout",
     "output_type": "stream",
     "text": [
      "[  54.59815003    7.3890561    20.08553692 1096.63315843  148.4131591\n",
      "  403.42879349] \n",
      "\n"
     ]
    }
   ],
   "source": [
    "arr = np.array([4,2,3,7,5,6], dtype = 'int64')\n",
    "print(np.exp(arr) , '\\n') #exponent"
   ]
  },
  {
   "cell_type": "code",
   "execution_count": 19,
   "id": "74a70f29",
   "metadata": {},
   "outputs": [
    {
     "name": "stdout",
     "output_type": "stream",
     "text": [
      "4.5 \n",
      "\n"
     ]
    }
   ],
   "source": [
    "arr = np.array([4,2,3,7,5,6], dtype = 'int64')\n",
    "print(np.mean(arr) , '\\n') #mean"
   ]
  },
  {
   "cell_type": "code",
   "execution_count": 20,
   "id": "decaba84",
   "metadata": {},
   "outputs": [
    {
     "name": "stdout",
     "output_type": "stream",
     "text": [
      "27 \n",
      "\n"
     ]
    }
   ],
   "source": [
    "arr = np.array([4,2,3,7,5,6], dtype = 'int64')\n",
    "print(np.sum(arr) , '\\n') #sum"
   ]
  },
  {
   "cell_type": "code",
   "execution_count": 21,
   "id": "47da4c9f",
   "metadata": {},
   "outputs": [
    {
     "name": "stdout",
     "output_type": "stream",
     "text": [
      "[ 4  6  9 16 21 27] \n",
      "\n"
     ]
    }
   ],
   "source": [
    "arr = np.array([4,2,3,7,5,6], dtype = 'int64')\n",
    "print(np.cumsum(arr) , '\\n') #cumsum"
   ]
  },
  {
   "cell_type": "code",
   "execution_count": 22,
   "id": "7734a91d",
   "metadata": {},
   "outputs": [
    {
     "name": "stdout",
     "output_type": "stream",
     "text": [
      "[2 3 4 5 6 7] \n",
      "\n"
     ]
    }
   ],
   "source": [
    "arr = np.array([4,2,3,7,5,6], dtype = 'int64')\n",
    "print(np.sort(arr) , '\\n') #sort"
   ]
  },
  {
   "cell_type": "code",
   "execution_count": 27,
   "id": "03e89228",
   "metadata": {},
   "outputs": [
    {
     "name": "stdout",
     "output_type": "stream",
     "text": [
      "[ True  True False  True False  True]\n"
     ]
    }
   ],
   "source": [
    "arr = np.array([4,2,3,7,5,6], dtype = 'int64')\n",
    "arr1 = np.array([0,1,8,2,6,5])\n",
    "\n",
    "print(arr > arr1) "
   ]
  },
  {
   "cell_type": "code",
   "execution_count": 32,
   "id": "75969577",
   "metadata": {},
   "outputs": [
    {
     "name": "stdout",
     "output_type": "stream",
     "text": [
      "[0 1 2 3 4 5 6 7 8 9]\n",
      "[5 6 7]\n",
      "[0 0 0 3 4 5 6 7 8 9]\n"
     ]
    }
   ],
   "source": [
    "arr = np.arange(10)\n",
    "print(arr)\n",
    "\n",
    "arr2 = arr[5:8]\n",
    "print(arr2)\n",
    "\n",
    "arr[:3]=0\n",
    "print(arr)"
   ]
  },
  {
   "cell_type": "code",
   "execution_count": 41,
   "id": "5db99c6a",
   "metadata": {},
   "outputs": [
    {
     "name": "stdout",
     "output_type": "stream",
     "text": [
      "[[ 0.50549257  0.46765058  0.06085258]\n",
      " [ 2.22551214  0.37936184 -0.26459894]\n",
      " [-0.09113692 -0.69435249 -0.30474944]\n",
      " [ 0.61673448 -0.68860567 -0.04539   ]]\n",
      "['abc' 'xyz' 'ijk' 'abc']\n",
      "[ True False False  True] \n",
      "\n",
      "[[ 0.50549257  0.46765058  0.06085258]\n",
      " [ 0.61673448 -0.68860567 -0.04539   ]] \n",
      "\n",
      "[[ 2.22551214  0.37936184 -0.26459894]\n",
      " [-0.09113692 -0.69435249 -0.30474944]] \n",
      "\n",
      "['abc' 'ijk' 'xyz']\n"
     ]
    }
   ],
   "source": [
    "arrNames = np.array(['abc','xyz', 'ijk','abc'])\n",
    "arrNums = np.random.randn(4,3)\n",
    "\n",
    "print(arrNums)\n",
    "print(arrNames)\n",
    "\n",
    "print(arrNames == 'abc', '\\n')\n",
    "print(arrNums[arrNames == 'abc'], '\\n')\n",
    "print(arrNums[~(arrNames == 'abc')], '\\n')\n",
    "\n",
    "print(np.unique(arrNames))"
   ]
  },
  {
   "cell_type": "code",
   "execution_count": 46,
   "id": "c9c264d3",
   "metadata": {},
   "outputs": [
    {
     "name": "stdout",
     "output_type": "stream",
     "text": [
      "[ 1.26796725 -0.39313766  1.11062677  0.05288814] \n",
      "\n",
      "[-0.05749401  0.56578195  0.94699689  1.5980297 ] \n",
      "\n",
      "[1.26796725 0.56578195 1.11062677 1.5980297 ] \n",
      "\n",
      "[-0.05749401 -0.39313766  0.94699689  0.05288814]\n"
     ]
    }
   ],
   "source": [
    "arr1 = np.random.randn(4)\n",
    "print(arr1, '\\n')\n",
    "\n",
    "arr2 = np.random.randn(4)\n",
    "print(arr2, '\\n')\n",
    "\n",
    "print(np.maximum(arr1, arr2) , '\\n')\n",
    "print(np.minimum(arr1, arr2))"
   ]
  },
  {
   "cell_type": "code",
   "execution_count": null,
   "id": "eb78eb12",
   "metadata": {},
   "outputs": [],
   "source": []
  }
 ],
 "metadata": {
  "kernelspec": {
   "display_name": "Python 3",
   "language": "python",
   "name": "python3"
  },
  "language_info": {
   "codemirror_mode": {
    "name": "ipython",
    "version": 3
   },
   "file_extension": ".py",
   "mimetype": "text/x-python",
   "name": "python",
   "nbconvert_exporter": "python",
   "pygments_lexer": "ipython3",
   "version": "3.8.8"
  }
 },
 "nbformat": 4,
 "nbformat_minor": 5
}
